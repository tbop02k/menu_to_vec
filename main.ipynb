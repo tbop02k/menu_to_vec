{
 "cells": [
  {
   "cell_type": "code",
   "execution_count": 9,
   "metadata": {},
   "outputs": [],
   "source": [
    "import pandas as pd\n",
    "import module"
   ]
  },
  {
   "cell_type": "code",
   "execution_count": 10,
   "metadata": {},
   "outputs": [],
   "source": [
    "df = pd.read_csv('sid_id_menu.csv')\n",
    "df = df.dropna(subset=['menu_cate'], axis=0)\n",
    "menu_to_id, id_to_menu, pair_menu = module.preprocess(df)"
   ]
  },
  {
   "cell_type": "code",
   "execution_count": 11,
   "metadata": {},
   "outputs": [
    {
     "data": {
      "text/html": [
       "<div>\n",
       "<style scoped>\n",
       "    .dataframe tbody tr th:only-of-type {\n",
       "        vertical-align: middle;\n",
       "    }\n",
       "\n",
       "    .dataframe tbody tr th {\n",
       "        vertical-align: top;\n",
       "    }\n",
       "\n",
       "    .dataframe thead th {\n",
       "        text-align: right;\n",
       "    }\n",
       "</style>\n",
       "<table border=\"1\" class=\"dataframe\">\n",
       "  <thead>\n",
       "    <tr style=\"text-align: right;\">\n",
       "      <th></th>\n",
       "      <th>sid_id</th>\n",
       "      <th>menu_cate</th>\n",
       "    </tr>\n",
       "  </thead>\n",
       "  <tbody>\n",
       "    <tr>\n",
       "      <th>0</th>\n",
       "      <td>20.0</td>\n",
       "      <td>불고기</td>\n",
       "    </tr>\n",
       "    <tr>\n",
       "      <th>1</th>\n",
       "      <td>20.0</td>\n",
       "      <td>주꾸미</td>\n",
       "    </tr>\n",
       "    <tr>\n",
       "      <th>2</th>\n",
       "      <td>20.0</td>\n",
       "      <td>제육볶음</td>\n",
       "    </tr>\n",
       "    <tr>\n",
       "      <th>3</th>\n",
       "      <td>50.0</td>\n",
       "      <td>꽃새우</td>\n",
       "    </tr>\n",
       "    <tr>\n",
       "      <th>4</th>\n",
       "      <td>50.0</td>\n",
       "      <td>바위굴</td>\n",
       "    </tr>\n",
       "  </tbody>\n",
       "</table>\n",
       "</div>"
      ],
      "text/plain": [
       "   sid_id menu_cate\n",
       "0    20.0       불고기\n",
       "1    20.0       주꾸미\n",
       "2    20.0      제육볶음\n",
       "3    50.0       꽃새우\n",
       "4    50.0       바위굴"
      ]
     },
     "execution_count": 11,
     "metadata": {},
     "output_type": "execute_result"
    }
   ],
   "source": [
    "df.head()"
   ]
  },
  {
   "cell_type": "code",
   "execution_count": 12,
   "metadata": {},
   "outputs": [
    {
     "name": "stderr",
     "output_type": "stream",
     "text": [
      "D:\\Dropbox\\data_science\\study\\innovation_square_nlp\\project\\Menu_to_vec\\module.py:41: RuntimeWarning: invalid value encountered in long_scalars\n",
      "  pmi = np.log2(C[i, j] * N / (S[j] * S[i]) + eps)\n"
     ]
    }
   ],
   "source": [
    "co_matrix = module.create_co_matrix2(pair_menu, len(id_to_menu))\n",
    "W = module.ppmi(co_matrix)"
   ]
  },
  {
   "cell_type": "code",
   "execution_count": 14,
   "metadata": {},
   "outputs": [
    {
     "name": "stdout",
     "output_type": "stream",
     "text": [
      "\n",
      "[query] 삼겹살\n",
      " 김치찌개: 0.5226993560791016\n",
      " 갈비: 0.32088714838027954\n",
      " 곱창: 0.31794601678848267\n",
      " 두루치기: 0.3141368627548218\n",
      " 감자탕: 0.2945331931114197\n"
     ]
    }
   ],
   "source": [
    "module.most_similar('삼겹살', menu_to_id, id_to_menu, W, top=5)"
   ]
  },
  {
   "cell_type": "code",
   "execution_count": 15,
   "metadata": {},
   "outputs": [
    {
     "name": "stdout",
     "output_type": "stream",
     "text": [
      "\n",
      "[query] 분식\n",
      " 백반: 0.3865366578102112\n",
      " 국: 0.2751125395298004\n",
      " 도시락: 0.26866233348846436\n",
      " 라볶이: 0.2671791613101959\n",
      " 일식: 0.2488284409046173\n"
     ]
    }
   ],
   "source": [
    "module.most_similar('분식', menu_to_id, id_to_menu, W, top=5)"
   ]
  },
  {
   "cell_type": "code",
   "execution_count": 16,
   "metadata": {},
   "outputs": [
    {
     "name": "stdout",
     "output_type": "stream",
     "text": [
      "\n",
      "[query] 파스타\n",
      " 피자: 0.3220522105693817\n",
      " 스튜: 0.28294166922569275\n",
      " 스테이크: 0.2760983407497406\n",
      " 리조또: 0.2632851004600525\n",
      " 라자냐: 0.2458564043045044\n"
     ]
    }
   ],
   "source": [
    "module.most_similar('파스타', menu_to_id, id_to_menu, W, top=5)"
   ]
  }
 ],
 "metadata": {
  "kernelspec": {
   "display_name": "Python 3",
   "language": "python",
   "name": "python3"
  },
  "language_info": {
   "codemirror_mode": {
    "name": "ipython",
    "version": 3
   },
   "file_extension": ".py",
   "mimetype": "text/x-python",
   "name": "python",
   "nbconvert_exporter": "python",
   "pygments_lexer": "ipython3",
   "version": "3.7.0"
  }
 },
 "nbformat": 4,
 "nbformat_minor": 4
}
